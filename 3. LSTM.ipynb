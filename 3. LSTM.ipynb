{
 "cells": [
  {
   "cell_type": "markdown",
   "id": "a7274bba-1ec2-406d-a608-546b94f6d817",
   "metadata": {},
   "source": [
    "# LSTM\n",
    "\n",
    "LSTMs are RNNs designed to handle sequential data and are easily adaptable for sentiment analysis. They're designed to maintain memory cells and gates to capture long-range patterns that traditional RNNs fail to do so per the vanishing gradient problem."
   ]
  },
  {
   "cell_type": "code",
   "execution_count": 1,
   "id": "d0701a9f-b16a-4019-9ea2-4b1c550b8ecf",
   "metadata": {},
   "outputs": [],
   "source": [
    "import pandas as pd\n",
    "from sklearn.model_selection import train_test_split\n",
    "\n",
    "df = pd.read_csv('sentiment140_cleaned.csv')\n",
    "texts = df['clean_text'].astype(str)\n",
    "labels = df['sentiment']\n",
    "\n",
    "X_train, X_test, y_train, y_test = train_test_split(texts, labels, test_size = 0.2, random_state = 734)"
   ]
  },
  {
   "cell_type": "markdown",
   "id": "ae88bde2-94eb-452d-8afa-ba977a3ddab0",
   "metadata": {},
   "source": [
    "Let's start off with a tokenizer and look to build a vocabulary. For our embeddings, we'll load in pre-trained embeddings (GloVe). We will also look to do compute heavy tasks (training) on GPU."
   ]
  },
  {
   "cell_type": "code",
   "execution_count": 2,
   "id": "67301a8f-40a4-4528-a868-0e1a5fe49eb7",
   "metadata": {},
   "outputs": [
    {
     "data": {
      "text/plain": [
       "device(type='cuda')"
      ]
     },
     "execution_count": 2,
     "metadata": {},
     "output_type": "execute_result"
    }
   ],
   "source": [
    "import torch\n",
    "from torchtext.vocab import GloVe, build_vocab_from_iterator\n",
    "from torchtext.data.utils import get_tokenizer\n",
    "from torch.nn.utils.rnn import pad_sequence\n",
    "import torch\n",
    "\n",
    "# Device\n",
    "device = torch.device('cuda' if torch.cuda.is_available() else 'cpu')\n",
    "device"
   ]
  },
  {
   "cell_type": "code",
   "execution_count": 3,
   "id": "ba491fbb-5c7c-4bc5-b25b-90a804733305",
   "metadata": {},
   "outputs": [],
   "source": [
    "# Pre-trained embeddings\n",
    "glove = GloVe(name = '6B', dim = 100)\n",
    "\n",
    "# Tokenizer\n",
    "tokenizer = get_tokenizer(\"basic_english\")\n",
    "tokenized_texts = [tokenizer(text) for text in X_train]\n",
    "\n",
    "# Vocab\n",
    "def yield_tokens(tokenized_texts):\n",
    "    for tokens in tokenized_texts:\n",
    "        yield tokens\n",
    "\n",
    "vocab = build_vocab_from_iterator(\n",
    "    yield_tokens(tokenized_texts),\n",
    "    specials=[\"<unk>\", \"<pad>\"]\n",
    ")\n",
    "vocab.set_default_index(vocab[\"<unk>\"])\n",
    "\n",
    "# Embedding matrix\n",
    "embedding_matrix = torch.zeros(len(vocab), 100)\n",
    "for i, token in enumerate(vocab.get_itos()):\n",
    "    if token in glove.stoi:\n",
    "        embedding_matrix[i] = glove[token]\n",
    "    else:\n",
    "        embedding_matrix[i] = torch.randn(100)  # random for out of vocab tokens"
   ]
  },
  {
   "cell_type": "markdown",
   "id": "ad836fe2-1b11-41b9-9b29-ca2498995e96",
   "metadata": {},
   "source": [
    "Now we have our embeddings/vocab setup so we can transform our text into tensors and define a dataset/dataloader to load our data into the model for training."
   ]
  },
  {
   "cell_type": "code",
   "execution_count": 4,
   "id": "caabfa7e-ec24-4e04-b9c7-69db1cf6b007",
   "metadata": {},
   "outputs": [],
   "source": [
    "from torch.nn.utils.rnn import pad_sequence\n",
    "from torch.utils.data import TensorDataset, DataLoader\n",
    "\n",
    "def text_pipeline(text, tokenizer, vocab):\n",
    "    return torch.tensor([vocab[token] for token in tokenizer(text)], dtype=torch.long)\n",
    "\n",
    "# Convert train/test into indexed tensors\n",
    "X_train_indices = [text_pipeline(text, tokenizer, vocab) for text in X_train]\n",
    "X_test_indices  = [text_pipeline(text, tokenizer, vocab) for text in X_test]\n",
    "\n",
    "# Pad our sequences\n",
    "X_train_padded = pad_sequence(X_train_indices, batch_first=True, padding_value=vocab[\"<pad>\"])\n",
    "X_test_padded  = pad_sequence(X_test_indices, batch_first=True, padding_value=vocab[\"<pad>\"])\n",
    "\n",
    "# Convert labels into tensors\n",
    "y_train_tensor = torch.tensor(y_train.values, dtype=torch.long)\n",
    "y_test_tensor  = torch.tensor(y_test.values, dtype=torch.long)\n",
    "\n",
    "# Dataset\n",
    "train_dataset = TensorDataset(X_train_padded, y_train_tensor)\n",
    "test_dataset  = TensorDataset(X_test_padded, y_test_tensor)\n",
    "\n",
    "# Data Loader\n",
    "train_loader = DataLoader(train_dataset, batch_size=64, shuffle=True)\n",
    "test_loader  = DataLoader(test_dataset, batch_size=64)\n"
   ]
  },
  {
   "cell_type": "markdown",
   "id": "d341cb5d-b35e-43f4-8534-e59f7b93873c",
   "metadata": {},
   "source": [
    "Now we're ready to define the LSTM classifier!"
   ]
  },
  {
   "cell_type": "code",
   "execution_count": 19,
   "id": "3ac555e0-0084-471a-9fa9-179e9a2ba340",
   "metadata": {},
   "outputs": [],
   "source": [
    "import torch.nn as nn\n",
    "\n",
    "class LSTMSentiment(nn.Module):\n",
    "    def __init__(self, vocab_size, embedding_dim, hidden_dim, output_dim, embedding_matrix, pad_idx):\n",
    "        super().__init__()\n",
    "        self.embedding = nn.Embedding(vocab_size, embedding_dim, padding_idx=pad_idx)\n",
    "        self.embedding.weight.data.copy_(embedding_matrix)\n",
    "        self.embedding.weight.requires_grad = False\n",
    "\n",
    "        self.lstm = nn.LSTM(embedding_dim, hidden_dim, batch_first=True)\n",
    "        self.fc = nn.Linear(hidden_dim, output_dim)\n",
    "\n",
    "    def forward(self, x):\n",
    "        embedded = self.embedding(x)\n",
    "        _, (hidden, _) = self.lstm(embedded)\n",
    "        hidden = hidden[-1]\n",
    "        out = self.fc(hidden)\n",
    "        return out\n"
   ]
  },
  {
   "cell_type": "code",
   "execution_count": 20,
   "id": "70fc9614-7d0f-45fc-b86c-5397fede1b5c",
   "metadata": {},
   "outputs": [
    {
     "name": "stdout",
     "output_type": "stream",
     "text": [
      "Epoch 1/5, Loss: 0.6960, Acc: 0.4963\n",
      "Epoch 2/5, Loss: 0.6940, Acc: 0.4973\n",
      "Epoch 3/5, Loss: 0.6751, Acc: 0.5856\n",
      "Epoch 4/5, Loss: 0.6099, Acc: 0.6719\n",
      "Epoch 5/5, Loss: 0.5718, Acc: 0.7031\n",
      "Epoch 6/5, Loss: 0.5450, Acc: 0.7239\n",
      "Epoch 7/5, Loss: 0.5255, Acc: 0.7392\n",
      "Epoch 8/5, Loss: 0.4988, Acc: 0.7554\n",
      "Epoch 9/5, Loss: 0.4652, Acc: 0.7823\n",
      "Epoch 10/5, Loss: 0.4248, Acc: 0.8059\n"
     ]
    }
   ],
   "source": [
    "import torch.optim as optim\n",
    "\n",
    "model = LSTMSentiment(\n",
    "    vocab_size = len(vocab),\n",
    "    embedding_dim = 100,\n",
    "    hidden_dim = 128,\n",
    "    output_dim = 2,\n",
    "    embedding_matrix = embedding_matrix,\n",
    "    pad_idx = vocab[\"<pad>\"]\n",
    ")\n",
    "model = model.to(device)\n",
    "\n",
    "optimizer = optim.Adam(model.parameters(), lr=1e-3, weight_decay=1e-5)\n",
    "criterion = nn.CrossEntropyLoss()\n",
    "\n",
    "for epoch in range(10):\n",
    "    model.train()\n",
    "    total_loss, correct, total = 0, 0, 0\n",
    "    \n",
    "    for X_batch, y_batch in train_loader:\n",
    "        X_batch, y_batch = X_batch.to(device), y_batch.to(device)\n",
    "\n",
    "        optimizer.zero_grad()\n",
    "        outputs = model(X_batch)\n",
    "        loss = criterion(outputs, y_batch)\n",
    "        loss.backward()\n",
    "        optimizer.step()\n",
    "\n",
    "        total_loss += loss.item()\n",
    "        preds = outputs.argmax(1)\n",
    "        correct += (preds == y_batch).sum().item()\n",
    "        total += y_batch.size(0)\n",
    "\n",
    "    acc = correct / total\n",
    "    print(f\"Epoch {epoch + 1}/{5}, Loss: {total_loss/len(train_loader):.4f}, Acc: {acc:.4f}\")"
   ]
  },
  {
   "cell_type": "code",
   "execution_count": 21,
   "id": "8d6ef839-ff25-4639-a7eb-3f4dd0aea000",
   "metadata": {},
   "outputs": [
    {
     "name": "stdout",
     "output_type": "stream",
     "text": [
      "Test Accuracy: 0.6965\n"
     ]
    }
   ],
   "source": [
    "model.eval()\n",
    "correct, total = 0, 0\n",
    "\n",
    "with torch.no_grad():\n",
    "    for X_batch, y_batch in test_loader:\n",
    "        X_batch, y_batch = X_batch.to(device), y_batch.to(device)\n",
    "        outputs = model(X_batch)\n",
    "        preds = outputs.argmax(1)\n",
    "        correct += (preds == y_batch).sum().item()\n",
    "        total += y_batch.size(0)\n",
    "\n",
    "print(f\"Test Accuracy: {correct/total:.4f}\")"
   ]
  },
  {
   "cell_type": "code",
   "execution_count": null,
   "id": "22ac8f31-e7fe-41fe-888b-caba2a0a6e6d",
   "metadata": {},
   "outputs": [],
   "source": []
  }
 ],
 "metadata": {
  "kernelspec": {
   "display_name": "Python 3 (ipykernel)",
   "language": "python",
   "name": "python3"
  },
  "language_info": {
   "codemirror_mode": {
    "name": "ipython",
    "version": 3
   },
   "file_extension": ".py",
   "mimetype": "text/x-python",
   "name": "python",
   "nbconvert_exporter": "python",
   "pygments_lexer": "ipython3",
   "version": "3.10.18"
  }
 },
 "nbformat": 4,
 "nbformat_minor": 5
}
