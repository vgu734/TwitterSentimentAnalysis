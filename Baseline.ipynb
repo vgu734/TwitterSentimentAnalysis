{
 "cells": [
  {
   "cell_type": "markdown",
   "id": "cd23b45f-c235-4529-a1c1-cc2ebee41be6",
   "metadata": {},
   "source": [
    "# Baseline with Logistic Regression\n",
    "\n",
    "We'll run our baseline with a simple logistic regression with a TF/IDF (Term-Frequency/Inverse-Document-Frequency) vectorizer. This improves performance over "
   ]
  },
  {
   "cell_type": "code",
   "execution_count": 1,
   "id": "e1f973fb-9dd5-415c-95bd-49e7362493e0",
   "metadata": {},
   "outputs": [],
   "source": [
    "import pandas as pd\n",
    "from sklearn.model_selection import train_test_split\n",
    "from sklearn.feature_extraction.text import CountVectorizer\n",
    "from sklearn.linear_model import LogisticRegression\n",
    "from sklearn.metrics import classification_report, accuracy_score\n",
    "\n",
    "df = pd.read_csv('sentiment140_cleaned.csv')"
   ]
  },
  {
   "cell_type": "code",
   "execution_count": 2,
   "id": "038ccd1c-1ea1-4f42-91af-35f8d5b436a5",
   "metadata": {},
   "outputs": [
    {
     "data": {
      "text/plain": [
       "9824        allergeys the dogwood trees are out to get me\n",
       "6587    wtf it sounds like there is a bug in my ipod i...\n",
       "8718               lets get tea station i need a pickmeup\n",
       "1643    mom and grandmom just left apartments empty again\n",
       "1902    using internet explorer is so as i was on my w...\n",
       "Name: clean_text, dtype: object"
      ]
     },
     "execution_count": 2,
     "metadata": {},
     "output_type": "execute_result"
    }
   ],
   "source": [
    "texts = df['clean_text'].astype(str)\n",
    "labels = df['sentiment']\n",
    "\n",
    "X_train, X_test, y_train, y_test = train_test_split(texts, labels, test_size = 0.2, random_state = 734)\n",
    "X_train.head()"
   ]
  },
  {
   "cell_type": "markdown",
   "id": "20846a94-49d1-4aff-9924-213dc45bfe9a",
   "metadata": {},
   "source": [
    "Let's use a BOW (bag-of-words) vectorizer to generate our embeddings. BOW ignores word (token) context and order and lumps everything together making it a simple, yet much less robust, NLP method."
   ]
  },
  {
   "cell_type": "code",
   "execution_count": 3,
   "id": "6a435213-eca5-4a0c-bf62-f27d517ae585",
   "metadata": {},
   "outputs": [],
   "source": [
    "vectorizer = CountVectorizer()\n",
    "X_train_vec = vectorizer.fit_transform(X_train)\n",
    "X_test_vec = vectorizer.transform(X_test)"
   ]
  },
  {
   "cell_type": "markdown",
   "id": "56e969b9-f66c-4228-aef3-5a2d2b22c8f8",
   "metadata": {},
   "source": [
    "Now we can train the classifier and evaluate!"
   ]
  },
  {
   "cell_type": "code",
   "execution_count": 4,
   "id": "8655f2c7-082c-4720-8d94-3e0725b085cf",
   "metadata": {},
   "outputs": [
    {
     "name": "stdout",
     "output_type": "stream",
     "text": [
      "              precision    recall  f1-score   support\n",
      "\n",
      "           0       0.77      0.69      0.73      1015\n",
      "           1       0.71      0.79      0.75       985\n",
      "\n",
      "    accuracy                           0.74      2000\n",
      "   macro avg       0.74      0.74      0.74      2000\n",
      "weighted avg       0.74      0.74      0.74      2000\n",
      "\n"
     ]
    }
   ],
   "source": [
    "clf = LogisticRegression(max_iter=1000)\n",
    "clf.fit(X_train_vec, y_train)\n",
    "\n",
    "y_pred = clf.predict(X_test_vec)\n",
    "print(classification_report(y_test, y_pred))"
   ]
  },
  {
   "cell_type": "markdown",
   "id": "830ec019-5183-470b-bd26-e1d476badf46",
   "metadata": {},
   "source": [
    "The simple baseline does a modest job classifying tweets with an overall accuracy of 74%.\n",
    "\n",
    "For class 0, 77% of our negative predictions were actually negative although we were only able to recall 69% of all negatives.\n",
    "\n",
    "For class 1, 71% of our positive predictions were actually positive and we were also able to capture 79% of all positives.\n",
    "\n",
    "This indicates that our model leans towards overpredicting positives and missing true negative cases. Can we do better?"
   ]
  }
 ],
 "metadata": {
  "kernelspec": {
   "display_name": "Python 3 (ipykernel)",
   "language": "python",
   "name": "python3"
  },
  "language_info": {
   "codemirror_mode": {
    "name": "ipython",
    "version": 3
   },
   "file_extension": ".py",
   "mimetype": "text/x-python",
   "name": "python",
   "nbconvert_exporter": "python",
   "pygments_lexer": "ipython3",
   "version": "3.10.18"
  }
 },
 "nbformat": 4,
 "nbformat_minor": 5
}
